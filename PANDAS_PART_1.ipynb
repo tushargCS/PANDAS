{
 "cells": [
  {
   "cell_type": "markdown",
   "id": "bda85f68",
   "metadata": {},
   "source": [
    "# PANDAS "
   ]
  },
  {
   "cell_type": "markdown",
   "id": "361d516e",
   "metadata": {},
   "source": [
    "USED FOR DATA MANIPULATION AND DATA ANAYSIS"
   ]
  },
  {
   "cell_type": "markdown",
   "id": "f9210ecf",
   "metadata": {},
   "source": [
    "TWO OBJECTS : SERIES AND DATAFRAME"
   ]
  },
  {
   "cell_type": "code",
   "execution_count": 6,
   "id": "b47cb683",
   "metadata": {},
   "outputs": [],
   "source": [
    "#IMPORT PANDAS\n",
    "import pandas as pd\n",
    "import numpy as np"
   ]
  },
  {
   "cell_type": "code",
   "execution_count": 7,
   "id": "413f7a2a",
   "metadata": {},
   "outputs": [
    {
     "data": {
      "text/plain": [
       "0       india\n",
       "1    pakistan\n",
       "2         usa\n",
       "3       nepal\n",
       "4    srilanka\n",
       "dtype: object"
      ]
     },
     "execution_count": 7,
     "metadata": {},
     "output_type": "execute_result"
    }
   ],
   "source": [
    "#string \n",
    "c = ['india','pakistan','usa','nepal','srilanka']\n",
    "\n",
    "pd.Series(c)"
   ]
  },
  {
   "cell_type": "raw",
   "id": "770ced63",
   "metadata": {},
   "source": [
    "pandas call string  --> object"
   ]
  },
  {
   "cell_type": "code",
   "execution_count": 8,
   "id": "c85ef890",
   "metadata": {},
   "outputs": [
    {
     "data": {
      "text/plain": [
       "0    13\n",
       "1    12\n",
       "2    13\n",
       "3    14\n",
       "4     4\n",
       "5    45\n",
       "dtype: int64"
      ]
     },
     "execution_count": 8,
     "metadata": {},
     "output_type": "execute_result"
    }
   ],
   "source": [
    "runs= [13,12,13,14,4,45]\n",
    "pd.Series(runs)"
   ]
  },
  {
   "cell_type": "code",
   "execution_count": 9,
   "id": "e092cb15",
   "metadata": {},
   "outputs": [
    {
     "data": {
      "text/plain": [
       "maths       67\n",
       "english     57\n",
       "sci         89\n",
       "hindi      100\n",
       "dtype: int64"
      ]
     },
     "execution_count": 9,
     "metadata": {},
     "output_type": "execute_result"
    }
   ],
   "source": [
    "#custom index\n",
    "marks=[67,57,89,100]\n",
    "sub = [\"maths\",\"english\",\"sci\",\"hindi\"]\n",
    "\n",
    "pd.Series(marks,index=sub)"
   ]
  },
  {
   "cell_type": "code",
   "execution_count": 10,
   "id": "d0872a71",
   "metadata": {},
   "outputs": [
    {
     "data": {
      "text/plain": [
       "maths       67\n",
       "english     57\n",
       "sci         89\n",
       "hindi      100\n",
       "Name: tushar ki marks, dtype: int64"
      ]
     },
     "execution_count": 10,
     "metadata": {},
     "output_type": "execute_result"
    }
   ],
   "source": [
    "#setting a name\n",
    "pd.Series(marks,index=sub,name=\"tushar ki marks\")"
   ]
  },
  {
   "cell_type": "markdown",
   "id": "af2b7354",
   "metadata": {},
   "source": [
    "# series from Dict"
   ]
  },
  {
   "cell_type": "code",
   "execution_count": 11,
   "id": "d03cbf6e",
   "metadata": {},
   "outputs": [],
   "source": [
    "marks={\n",
    "    'maths':67,\n",
    "    'eng':57,\n",
    "    'sci':89,\n",
    "    'hindi':100\n",
    "}\n",
    "\n",
    "marks_series = pd.Series(marks,name=\"tushar hi marks\")"
   ]
  },
  {
   "cell_type": "code",
   "execution_count": 12,
   "id": "126c1559",
   "metadata": {},
   "outputs": [
    {
     "data": {
      "text/plain": [
       "maths     67\n",
       "eng       57\n",
       "sci       89\n",
       "hindi    100\n",
       "Name: tushar hi marks, dtype: int64"
      ]
     },
     "execution_count": 12,
     "metadata": {},
     "output_type": "execute_result"
    }
   ],
   "source": [
    "marks_series"
   ]
  },
  {
   "cell_type": "markdown",
   "id": "72c0f174",
   "metadata": {},
   "source": [
    "# Series Attributes"
   ]
  },
  {
   "cell_type": "code",
   "execution_count": 13,
   "id": "8fc315b9",
   "metadata": {},
   "outputs": [
    {
     "data": {
      "text/plain": [
       "4"
      ]
     },
     "execution_count": 13,
     "metadata": {},
     "output_type": "execute_result"
    }
   ],
   "source": [
    "#size\n",
    "marks_series.size"
   ]
  },
  {
   "cell_type": "code",
   "execution_count": 14,
   "id": "cfddf9a2",
   "metadata": {},
   "outputs": [
    {
     "data": {
      "text/plain": [
       "dtype('int64')"
      ]
     },
     "execution_count": 14,
     "metadata": {},
     "output_type": "execute_result"
    }
   ],
   "source": [
    "#dtype\n",
    "marks_series.dtype"
   ]
  },
  {
   "cell_type": "code",
   "execution_count": 15,
   "id": "37a18f16",
   "metadata": {},
   "outputs": [
    {
     "data": {
      "text/plain": [
       "'tushar hi marks'"
      ]
     },
     "execution_count": 15,
     "metadata": {},
     "output_type": "execute_result"
    }
   ],
   "source": [
    "#name\n",
    "marks_series.name"
   ]
  },
  {
   "cell_type": "code",
   "execution_count": 16,
   "id": "bc853da1",
   "metadata": {},
   "outputs": [
    {
     "data": {
      "text/plain": [
       "True"
      ]
     },
     "execution_count": 16,
     "metadata": {},
     "output_type": "execute_result"
    }
   ],
   "source": [
    "#is_unique\n",
    "marks_series.is_unique"
   ]
  },
  {
   "cell_type": "code",
   "execution_count": 17,
   "id": "55ef9164",
   "metadata": {},
   "outputs": [
    {
     "data": {
      "text/plain": [
       "False"
      ]
     },
     "execution_count": 17,
     "metadata": {},
     "output_type": "execute_result"
    }
   ],
   "source": [
    "pd.Series([1,2,3,41,7,1]).is_unique"
   ]
  },
  {
   "cell_type": "code",
   "execution_count": 18,
   "id": "d496f1cb",
   "metadata": {},
   "outputs": [
    {
     "data": {
      "text/plain": [
       "Index(['maths', 'eng', 'sci', 'hindi'], dtype='object')"
      ]
     },
     "execution_count": 18,
     "metadata": {},
     "output_type": "execute_result"
    }
   ],
   "source": [
    "#index\n",
    "marks_series.index"
   ]
  },
  {
   "cell_type": "code",
   "execution_count": 19,
   "id": "73a1fa3b",
   "metadata": {},
   "outputs": [
    {
     "data": {
      "text/plain": [
       "array([ 67,  57,  89, 100])"
      ]
     },
     "execution_count": 19,
     "metadata": {},
     "output_type": "execute_result"
    }
   ],
   "source": [
    "#values\n",
    "marks_series.values"
   ]
  },
  {
   "cell_type": "code",
   "execution_count": 20,
   "id": "2880e345",
   "metadata": {},
   "outputs": [
    {
     "data": {
      "text/plain": [
       "numpy.ndarray"
      ]
     },
     "execution_count": 20,
     "metadata": {},
     "output_type": "execute_result"
    }
   ],
   "source": [
    "type(marks_series.values)"
   ]
  },
  {
   "cell_type": "markdown",
   "id": "41bba728",
   "metadata": {},
   "source": [
    "# Series using read_csv"
   ]
  },
  {
   "cell_type": "code",
   "execution_count": 64,
   "id": "bd3d8dc2",
   "metadata": {},
   "outputs": [
    {
     "data": {
      "text/html": [
       "<div>\n",
       "<style scoped>\n",
       "    .dataframe tbody tr th:only-of-type {\n",
       "        vertical-align: middle;\n",
       "    }\n",
       "\n",
       "    .dataframe tbody tr th {\n",
       "        vertical-align: top;\n",
       "    }\n",
       "\n",
       "    .dataframe thead th {\n",
       "        text-align: right;\n",
       "    }\n",
       "</style>\n",
       "<table border=\"1\" class=\"dataframe\">\n",
       "  <thead>\n",
       "    <tr style=\"text-align: right;\">\n",
       "      <th></th>\n",
       "      <th>Runs</th>\n",
       "      <th>Mins</th>\n",
       "      <th>BF</th>\n",
       "      <th>4s</th>\n",
       "      <th>6s</th>\n",
       "      <th>SR</th>\n",
       "      <th>Pos</th>\n",
       "      <th>Dismissal</th>\n",
       "      <th>Inns</th>\n",
       "      <th>Opposition</th>\n",
       "      <th>Ground</th>\n",
       "      <th>Start Date</th>\n",
       "    </tr>\n",
       "  </thead>\n",
       "  <tbody>\n",
       "    <tr>\n",
       "      <th>0</th>\n",
       "      <td>12</td>\n",
       "      <td>33</td>\n",
       "      <td>22</td>\n",
       "      <td>1</td>\n",
       "      <td>0</td>\n",
       "      <td>54.54</td>\n",
       "      <td>2</td>\n",
       "      <td>lbw</td>\n",
       "      <td>1</td>\n",
       "      <td>v Sri Lanka</td>\n",
       "      <td>Dambulla</td>\n",
       "      <td>18-Aug-08</td>\n",
       "    </tr>\n",
       "    <tr>\n",
       "      <th>1</th>\n",
       "      <td>37</td>\n",
       "      <td>82</td>\n",
       "      <td>67</td>\n",
       "      <td>6</td>\n",
       "      <td>0</td>\n",
       "      <td>55.22</td>\n",
       "      <td>2</td>\n",
       "      <td>caught</td>\n",
       "      <td>2</td>\n",
       "      <td>v Sri Lanka</td>\n",
       "      <td>Dambulla</td>\n",
       "      <td>20-Aug-08</td>\n",
       "    </tr>\n",
       "    <tr>\n",
       "      <th>2</th>\n",
       "      <td>25</td>\n",
       "      <td>40</td>\n",
       "      <td>38</td>\n",
       "      <td>4</td>\n",
       "      <td>0</td>\n",
       "      <td>65.78</td>\n",
       "      <td>1</td>\n",
       "      <td>run out</td>\n",
       "      <td>1</td>\n",
       "      <td>v Sri Lanka</td>\n",
       "      <td>Colombo (RPS)</td>\n",
       "      <td>24-Aug-08</td>\n",
       "    </tr>\n",
       "    <tr>\n",
       "      <th>3</th>\n",
       "      <td>54</td>\n",
       "      <td>87</td>\n",
       "      <td>66</td>\n",
       "      <td>7</td>\n",
       "      <td>0</td>\n",
       "      <td>81.81</td>\n",
       "      <td>1</td>\n",
       "      <td>bowled</td>\n",
       "      <td>1</td>\n",
       "      <td>v Sri Lanka</td>\n",
       "      <td>Colombo (RPS)</td>\n",
       "      <td>27-Aug-08</td>\n",
       "    </tr>\n",
       "    <tr>\n",
       "      <th>4</th>\n",
       "      <td>31</td>\n",
       "      <td>45</td>\n",
       "      <td>46</td>\n",
       "      <td>3</td>\n",
       "      <td>1</td>\n",
       "      <td>67.39</td>\n",
       "      <td>1</td>\n",
       "      <td>lbw</td>\n",
       "      <td>2</td>\n",
       "      <td>v Sri Lanka</td>\n",
       "      <td>Colombo (RPS)</td>\n",
       "      <td>29-Aug-08</td>\n",
       "    </tr>\n",
       "    <tr>\n",
       "      <th>...</th>\n",
       "      <td>...</td>\n",
       "      <td>...</td>\n",
       "      <td>...</td>\n",
       "      <td>...</td>\n",
       "      <td>...</td>\n",
       "      <td>...</td>\n",
       "      <td>...</td>\n",
       "      <td>...</td>\n",
       "      <td>...</td>\n",
       "      <td>...</td>\n",
       "      <td>...</td>\n",
       "      <td>...</td>\n",
       "    </tr>\n",
       "    <tr>\n",
       "      <th>127</th>\n",
       "      <td>45</td>\n",
       "      <td>64</td>\n",
       "      <td>51</td>\n",
       "      <td>2</td>\n",
       "      <td>1</td>\n",
       "      <td>88.23</td>\n",
       "      <td>3</td>\n",
       "      <td>caught</td>\n",
       "      <td>2</td>\n",
       "      <td>v New Zealand</td>\n",
       "      <td>Ranchi</td>\n",
       "      <td>26-Oct-16</td>\n",
       "    </tr>\n",
       "    <tr>\n",
       "      <th>128</th>\n",
       "      <td>65</td>\n",
       "      <td>152</td>\n",
       "      <td>76</td>\n",
       "      <td>2</td>\n",
       "      <td>1</td>\n",
       "      <td>85.52</td>\n",
       "      <td>3</td>\n",
       "      <td>caught</td>\n",
       "      <td>1</td>\n",
       "      <td>v New Zealand</td>\n",
       "      <td>Visakhapatnam</td>\n",
       "      <td>29-Oct-16</td>\n",
       "    </tr>\n",
       "    <tr>\n",
       "      <th>129</th>\n",
       "      <td>122</td>\n",
       "      <td>147</td>\n",
       "      <td>105</td>\n",
       "      <td>8</td>\n",
       "      <td>5</td>\n",
       "      <td>116.19</td>\n",
       "      <td>3</td>\n",
       "      <td>caught</td>\n",
       "      <td>2</td>\n",
       "      <td>v England</td>\n",
       "      <td>Pune</td>\n",
       "      <td>15-Jan-17</td>\n",
       "    </tr>\n",
       "    <tr>\n",
       "      <th>130</th>\n",
       "      <td>8</td>\n",
       "      <td>6</td>\n",
       "      <td>5</td>\n",
       "      <td>2</td>\n",
       "      <td>0</td>\n",
       "      <td>160</td>\n",
       "      <td>3</td>\n",
       "      <td>caught</td>\n",
       "      <td>1</td>\n",
       "      <td>v England</td>\n",
       "      <td>Cuttack</td>\n",
       "      <td>19-Jan-17</td>\n",
       "    </tr>\n",
       "    <tr>\n",
       "      <th>131</th>\n",
       "      <td>55</td>\n",
       "      <td>81</td>\n",
       "      <td>63</td>\n",
       "      <td>8</td>\n",
       "      <td>0</td>\n",
       "      <td>87.3</td>\n",
       "      <td>3</td>\n",
       "      <td>caught</td>\n",
       "      <td>2</td>\n",
       "      <td>v England</td>\n",
       "      <td>Kolkata</td>\n",
       "      <td>22-Jan-17</td>\n",
       "    </tr>\n",
       "  </tbody>\n",
       "</table>\n",
       "<p>132 rows × 12 columns</p>\n",
       "</div>"
      ],
      "text/plain": [
       "     Runs Mins   BF  4s  6s      SR  Pos Dismissal  Inns     Opposition  \\\n",
       "0      12   33   22   1   0   54.54    2       lbw     1    v Sri Lanka   \n",
       "1      37   82   67   6   0   55.22    2    caught     2    v Sri Lanka   \n",
       "2      25   40   38   4   0   65.78    1   run out     1    v Sri Lanka   \n",
       "3      54   87   66   7   0   81.81    1    bowled     1    v Sri Lanka   \n",
       "4      31   45   46   3   1   67.39    1       lbw     2    v Sri Lanka   \n",
       "..    ...  ...  ...  ..  ..     ...  ...       ...   ...            ...   \n",
       "127    45   64   51   2   1   88.23    3    caught     2  v New Zealand   \n",
       "128    65  152   76   2   1   85.52    3    caught     1  v New Zealand   \n",
       "129   122  147  105   8   5  116.19    3    caught     2      v England   \n",
       "130     8    6    5   2   0     160    3    caught     1      v England   \n",
       "131    55   81   63   8   0    87.3    3    caught     2      v England   \n",
       "\n",
       "            Ground Start Date  \n",
       "0         Dambulla  18-Aug-08  \n",
       "1         Dambulla  20-Aug-08  \n",
       "2    Colombo (RPS)  24-Aug-08  \n",
       "3    Colombo (RPS)  27-Aug-08  \n",
       "4    Colombo (RPS)  29-Aug-08  \n",
       "..             ...        ...  \n",
       "127         Ranchi  26-Oct-16  \n",
       "128  Visakhapatnam  29-Oct-16  \n",
       "129           Pune  15-Jan-17  \n",
       "130        Cuttack  19-Jan-17  \n",
       "131        Kolkata  22-Jan-17  \n",
       "\n",
       "[132 rows x 12 columns]"
      ]
     },
     "execution_count": 64,
     "metadata": {},
     "output_type": "execute_result"
    }
   ],
   "source": [
    "#with one column\n",
    "s = pd.read_csv(\"/home/anurag10/JUPYTER_NOTEBOOK/Pandas/archive/Virat_Kohli_ODI.csv\")\n",
    "#(squeeze=True) because pd.read_csv read by-default in dataFrame\n",
    "s"
   ]
  },
  {
   "cell_type": "raw",
   "id": "3fd9c424",
   "metadata": {},
   "source": [
    "#with 2 cols\n",
    "pd.read_csv(\"path\",index_col=\"column_name\",squeeze=True)"
   ]
  },
  {
   "cell_type": "code",
   "execution_count": 65,
   "id": "72795a3e",
   "metadata": {},
   "outputs": [
    {
     "data": {
      "text/plain": [
       "0       12\n",
       "1       37\n",
       "2       25\n",
       "3       54\n",
       "4       31\n",
       "      ... \n",
       "127     45\n",
       "128     65\n",
       "129    122\n",
       "130      8\n",
       "131     55\n",
       "Name: Runs, Length: 132, dtype: int64"
      ]
     },
     "execution_count": 65,
     "metadata": {},
     "output_type": "execute_result"
    }
   ],
   "source": [
    "s['Runs']"
   ]
  },
  {
   "cell_type": "code",
   "execution_count": 66,
   "id": "a281b314",
   "metadata": {},
   "outputs": [
    {
     "data": {
      "text/html": [
       "<div>\n",
       "<style scoped>\n",
       "    .dataframe tbody tr th:only-of-type {\n",
       "        vertical-align: middle;\n",
       "    }\n",
       "\n",
       "    .dataframe tbody tr th {\n",
       "        vertical-align: top;\n",
       "    }\n",
       "\n",
       "    .dataframe thead th {\n",
       "        text-align: right;\n",
       "    }\n",
       "</style>\n",
       "<table border=\"1\" class=\"dataframe\">\n",
       "  <thead>\n",
       "    <tr style=\"text-align: right;\">\n",
       "      <th></th>\n",
       "      <th>Runs</th>\n",
       "      <th>BF</th>\n",
       "      <th>4s</th>\n",
       "      <th>6s</th>\n",
       "      <th>SR</th>\n",
       "      <th>Pos</th>\n",
       "      <th>Dismissal</th>\n",
       "      <th>Inns</th>\n",
       "      <th>Opposition</th>\n",
       "      <th>Ground</th>\n",
       "      <th>Start Date</th>\n",
       "    </tr>\n",
       "    <tr>\n",
       "      <th>Mins</th>\n",
       "      <th></th>\n",
       "      <th></th>\n",
       "      <th></th>\n",
       "      <th></th>\n",
       "      <th></th>\n",
       "      <th></th>\n",
       "      <th></th>\n",
       "      <th></th>\n",
       "      <th></th>\n",
       "      <th></th>\n",
       "      <th></th>\n",
       "    </tr>\n",
       "  </thead>\n",
       "  <tbody>\n",
       "    <tr>\n",
       "      <th>33</th>\n",
       "      <td>12</td>\n",
       "      <td>22</td>\n",
       "      <td>1</td>\n",
       "      <td>0</td>\n",
       "      <td>54.54</td>\n",
       "      <td>2</td>\n",
       "      <td>lbw</td>\n",
       "      <td>1</td>\n",
       "      <td>v Sri Lanka</td>\n",
       "      <td>Dambulla</td>\n",
       "      <td>18-Aug-08</td>\n",
       "    </tr>\n",
       "    <tr>\n",
       "      <th>82</th>\n",
       "      <td>37</td>\n",
       "      <td>67</td>\n",
       "      <td>6</td>\n",
       "      <td>0</td>\n",
       "      <td>55.22</td>\n",
       "      <td>2</td>\n",
       "      <td>caught</td>\n",
       "      <td>2</td>\n",
       "      <td>v Sri Lanka</td>\n",
       "      <td>Dambulla</td>\n",
       "      <td>20-Aug-08</td>\n",
       "    </tr>\n",
       "    <tr>\n",
       "      <th>40</th>\n",
       "      <td>25</td>\n",
       "      <td>38</td>\n",
       "      <td>4</td>\n",
       "      <td>0</td>\n",
       "      <td>65.78</td>\n",
       "      <td>1</td>\n",
       "      <td>run out</td>\n",
       "      <td>1</td>\n",
       "      <td>v Sri Lanka</td>\n",
       "      <td>Colombo (RPS)</td>\n",
       "      <td>24-Aug-08</td>\n",
       "    </tr>\n",
       "    <tr>\n",
       "      <th>87</th>\n",
       "      <td>54</td>\n",
       "      <td>66</td>\n",
       "      <td>7</td>\n",
       "      <td>0</td>\n",
       "      <td>81.81</td>\n",
       "      <td>1</td>\n",
       "      <td>bowled</td>\n",
       "      <td>1</td>\n",
       "      <td>v Sri Lanka</td>\n",
       "      <td>Colombo (RPS)</td>\n",
       "      <td>27-Aug-08</td>\n",
       "    </tr>\n",
       "    <tr>\n",
       "      <th>45</th>\n",
       "      <td>31</td>\n",
       "      <td>46</td>\n",
       "      <td>3</td>\n",
       "      <td>1</td>\n",
       "      <td>67.39</td>\n",
       "      <td>1</td>\n",
       "      <td>lbw</td>\n",
       "      <td>2</td>\n",
       "      <td>v Sri Lanka</td>\n",
       "      <td>Colombo (RPS)</td>\n",
       "      <td>29-Aug-08</td>\n",
       "    </tr>\n",
       "    <tr>\n",
       "      <th>...</th>\n",
       "      <td>...</td>\n",
       "      <td>...</td>\n",
       "      <td>...</td>\n",
       "      <td>...</td>\n",
       "      <td>...</td>\n",
       "      <td>...</td>\n",
       "      <td>...</td>\n",
       "      <td>...</td>\n",
       "      <td>...</td>\n",
       "      <td>...</td>\n",
       "      <td>...</td>\n",
       "    </tr>\n",
       "    <tr>\n",
       "      <th>64</th>\n",
       "      <td>45</td>\n",
       "      <td>51</td>\n",
       "      <td>2</td>\n",
       "      <td>1</td>\n",
       "      <td>88.23</td>\n",
       "      <td>3</td>\n",
       "      <td>caught</td>\n",
       "      <td>2</td>\n",
       "      <td>v New Zealand</td>\n",
       "      <td>Ranchi</td>\n",
       "      <td>26-Oct-16</td>\n",
       "    </tr>\n",
       "    <tr>\n",
       "      <th>152</th>\n",
       "      <td>65</td>\n",
       "      <td>76</td>\n",
       "      <td>2</td>\n",
       "      <td>1</td>\n",
       "      <td>85.52</td>\n",
       "      <td>3</td>\n",
       "      <td>caught</td>\n",
       "      <td>1</td>\n",
       "      <td>v New Zealand</td>\n",
       "      <td>Visakhapatnam</td>\n",
       "      <td>29-Oct-16</td>\n",
       "    </tr>\n",
       "    <tr>\n",
       "      <th>147</th>\n",
       "      <td>122</td>\n",
       "      <td>105</td>\n",
       "      <td>8</td>\n",
       "      <td>5</td>\n",
       "      <td>116.19</td>\n",
       "      <td>3</td>\n",
       "      <td>caught</td>\n",
       "      <td>2</td>\n",
       "      <td>v England</td>\n",
       "      <td>Pune</td>\n",
       "      <td>15-Jan-17</td>\n",
       "    </tr>\n",
       "    <tr>\n",
       "      <th>6</th>\n",
       "      <td>8</td>\n",
       "      <td>5</td>\n",
       "      <td>2</td>\n",
       "      <td>0</td>\n",
       "      <td>160</td>\n",
       "      <td>3</td>\n",
       "      <td>caught</td>\n",
       "      <td>1</td>\n",
       "      <td>v England</td>\n",
       "      <td>Cuttack</td>\n",
       "      <td>19-Jan-17</td>\n",
       "    </tr>\n",
       "    <tr>\n",
       "      <th>81</th>\n",
       "      <td>55</td>\n",
       "      <td>63</td>\n",
       "      <td>8</td>\n",
       "      <td>0</td>\n",
       "      <td>87.3</td>\n",
       "      <td>3</td>\n",
       "      <td>caught</td>\n",
       "      <td>2</td>\n",
       "      <td>v England</td>\n",
       "      <td>Kolkata</td>\n",
       "      <td>22-Jan-17</td>\n",
       "    </tr>\n",
       "  </tbody>\n",
       "</table>\n",
       "<p>132 rows × 11 columns</p>\n",
       "</div>"
      ],
      "text/plain": [
       "      Runs   BF  4s  6s      SR  Pos Dismissal  Inns     Opposition  \\\n",
       "Mins                                                                  \n",
       "33      12   22   1   0   54.54    2       lbw     1    v Sri Lanka   \n",
       "82      37   67   6   0   55.22    2    caught     2    v Sri Lanka   \n",
       "40      25   38   4   0   65.78    1   run out     1    v Sri Lanka   \n",
       "87      54   66   7   0   81.81    1    bowled     1    v Sri Lanka   \n",
       "45      31   46   3   1   67.39    1       lbw     2    v Sri Lanka   \n",
       "...    ...  ...  ..  ..     ...  ...       ...   ...            ...   \n",
       "64      45   51   2   1   88.23    3    caught     2  v New Zealand   \n",
       "152     65   76   2   1   85.52    3    caught     1  v New Zealand   \n",
       "147    122  105   8   5  116.19    3    caught     2      v England   \n",
       "6        8    5   2   0     160    3    caught     1      v England   \n",
       "81      55   63   8   0    87.3    3    caught     2      v England   \n",
       "\n",
       "             Ground Start Date  \n",
       "Mins                            \n",
       "33         Dambulla  18-Aug-08  \n",
       "82         Dambulla  20-Aug-08  \n",
       "40    Colombo (RPS)  24-Aug-08  \n",
       "87    Colombo (RPS)  27-Aug-08  \n",
       "45    Colombo (RPS)  29-Aug-08  \n",
       "...             ...        ...  \n",
       "64           Ranchi  26-Oct-16  \n",
       "152   Visakhapatnam  29-Oct-16  \n",
       "147            Pune  15-Jan-17  \n",
       "6           Cuttack  19-Jan-17  \n",
       "81          Kolkata  22-Jan-17  \n",
       "\n",
       "[132 rows x 11 columns]"
      ]
     },
     "execution_count": 66,
     "metadata": {},
     "output_type": "execute_result"
    }
   ],
   "source": [
    "pd.read_csv(\"/home/anurag10/JUPYTER_NOTEBOOK/Pandas/archive/Virat_Kohli_ODI.csv\",index_col=\"Mins\")"
   ]
  },
  {
   "cell_type": "markdown",
   "id": "1eb4c87f",
   "metadata": {},
   "source": [
    "# Series Methods"
   ]
  },
  {
   "cell_type": "code",
   "execution_count": 67,
   "id": "295144f8",
   "metadata": {},
   "outputs": [
    {
     "data": {
      "text/plain": [
       "0    12\n",
       "1    37\n",
       "2    25\n",
       "3    54\n",
       "4    31\n",
       "Name: Runs, dtype: int64"
      ]
     },
     "execution_count": 67,
     "metadata": {},
     "output_type": "execute_result"
    }
   ],
   "source": [
    "#head and tail()\n",
    "s['Runs'].head()"
   ]
  },
  {
   "cell_type": "code",
   "execution_count": 68,
   "id": "bf377ded",
   "metadata": {},
   "outputs": [
    {
     "data": {
      "text/plain": [
       "127     45\n",
       "128     65\n",
       "129    122\n",
       "130      8\n",
       "131     55\n",
       "Name: Runs, dtype: int64"
      ]
     },
     "execution_count": 68,
     "metadata": {},
     "output_type": "execute_result"
    }
   ],
   "source": [
    "s['Runs'].tail()"
   ]
  },
  {
   "cell_type": "code",
   "execution_count": 69,
   "id": "dec97191",
   "metadata": {},
   "outputs": [
    {
     "data": {
      "text/plain": [
       "0    12\n",
       "1    37\n",
       "2    25\n",
       "3    54\n",
       "4    31\n",
       "5     2\n",
       "6    30\n",
       "7    10\n",
       "8    27\n",
       "9    54\n",
       "Name: Runs, dtype: int64"
      ]
     },
     "execution_count": 69,
     "metadata": {},
     "output_type": "execute_result"
    }
   ],
   "source": [
    "s['Runs'].head(10)"
   ]
  },
  {
   "cell_type": "code",
   "execution_count": 70,
   "id": "5595831c",
   "metadata": {},
   "outputs": [
    {
     "data": {
      "text/plain": [
       "122    106\n",
       "123      8\n",
       "124     85\n",
       "125      9\n",
       "126    154\n",
       "127     45\n",
       "128     65\n",
       "129    122\n",
       "130      8\n",
       "131     55\n",
       "Name: Runs, dtype: int64"
      ]
     },
     "execution_count": 70,
     "metadata": {},
     "output_type": "execute_result"
    }
   ],
   "source": [
    "s['Runs'].tail(10)"
   ]
  },
  {
   "cell_type": "code",
   "execution_count": 71,
   "id": "5ccc7085",
   "metadata": {},
   "outputs": [
    {
     "data": {
      "text/html": [
       "<div>\n",
       "<style scoped>\n",
       "    .dataframe tbody tr th:only-of-type {\n",
       "        vertical-align: middle;\n",
       "    }\n",
       "\n",
       "    .dataframe tbody tr th {\n",
       "        vertical-align: top;\n",
       "    }\n",
       "\n",
       "    .dataframe thead th {\n",
       "        text-align: right;\n",
       "    }\n",
       "</style>\n",
       "<table border=\"1\" class=\"dataframe\">\n",
       "  <thead>\n",
       "    <tr style=\"text-align: right;\">\n",
       "      <th></th>\n",
       "      <th>Runs</th>\n",
       "      <th>Mins</th>\n",
       "      <th>BF</th>\n",
       "      <th>4s</th>\n",
       "      <th>6s</th>\n",
       "      <th>SR</th>\n",
       "      <th>Pos</th>\n",
       "      <th>Dismissal</th>\n",
       "      <th>Inns</th>\n",
       "      <th>Opposition</th>\n",
       "      <th>Ground</th>\n",
       "      <th>Start Date</th>\n",
       "    </tr>\n",
       "  </thead>\n",
       "  <tbody>\n",
       "    <tr>\n",
       "      <th>114</th>\n",
       "      <td>11</td>\n",
       "      <td>29</td>\n",
       "      <td>18</td>\n",
       "      <td>0</td>\n",
       "      <td>0</td>\n",
       "      <td>61.11</td>\n",
       "      <td>4</td>\n",
       "      <td>caught</td>\n",
       "      <td>2</td>\n",
       "      <td>v South Africa</td>\n",
       "      <td>Kanpur</td>\n",
       "      <td>11-Oct-15</td>\n",
       "    </tr>\n",
       "  </tbody>\n",
       "</table>\n",
       "</div>"
      ],
      "text/plain": [
       "     Runs Mins  BF  4s  6s     SR  Pos Dismissal  Inns      Opposition  \\\n",
       "114    11   29  18   0   0  61.11    4    caught     2  v South Africa   \n",
       "\n",
       "     Ground Start Date  \n",
       "114  Kanpur  11-Oct-15  "
      ]
     },
     "execution_count": 71,
     "metadata": {},
     "output_type": "execute_result"
    }
   ],
   "source": [
    "#sample--> it will give one random row i dataframe\n",
    "s.sample()"
   ]
  },
  {
   "cell_type": "code",
   "execution_count": 72,
   "id": "fb1fa761",
   "metadata": {},
   "outputs": [
    {
     "data": {
      "text/plain": [
       "101    2\n",
       "Name: Runs, dtype: int64"
      ]
     },
     "execution_count": 72,
     "metadata": {},
     "output_type": "execute_result"
    }
   ],
   "source": [
    "s['Runs'].sample()"
   ]
  },
  {
   "cell_type": "code",
   "execution_count": 73,
   "id": "23952daf",
   "metadata": {},
   "outputs": [
    {
     "data": {
      "text/plain": [
       "0      10\n",
       "2       6\n",
       "1       5\n",
       "12      4\n",
       "37      4\n",
       "       ..\n",
       "21      1\n",
       "128     1\n",
       "6       1\n",
       "15      1\n",
       "55      1\n",
       "Name: Runs, Length: 75, dtype: int64"
      ]
     },
     "execution_count": 73,
     "metadata": {},
     "output_type": "execute_result"
    }
   ],
   "source": [
    "#value_counts \n",
    "s['Runs'].value_counts()"
   ]
  },
  {
   "cell_type": "code",
   "execution_count": 288,
   "id": "9285ebbf",
   "metadata": {},
   "outputs": [
    {
     "data": {
      "text/plain": [
       "v Sri Lanka       24\n",
       "v England         21\n",
       "v Australia       20\n",
       "v West Indies     19\n",
       "v South Africa    15\n",
       "v New Zealand     14\n",
       "v Bangladesh       8\n",
       "v Zimbabwe         5\n",
       "v Pakistan         4\n",
       "v Ireland          1\n",
       "v Netherlands      1\n",
       "Name: Opposition, dtype: int64"
      ]
     },
     "execution_count": 288,
     "metadata": {},
     "output_type": "execute_result"
    }
   ],
   "source": [
    "s['Opposition'].value_counts()"
   ]
  },
  {
   "cell_type": "code",
   "execution_count": 75,
   "id": "d387659a",
   "metadata": {},
   "outputs": [
    {
     "data": {
      "text/plain": [
       "0       12\n",
       "1       37\n",
       "2       25\n",
       "3       54\n",
       "4       31\n",
       "      ... \n",
       "127     45\n",
       "128     65\n",
       "129    122\n",
       "130      8\n",
       "131     55\n",
       "Name: Runs, Length: 132, dtype: int64"
      ]
     },
     "execution_count": 75,
     "metadata": {},
     "output_type": "execute_result"
    }
   ],
   "source": [
    "#sort_values\n",
    "s['Runs']"
   ]
  },
  {
   "cell_type": "code",
   "execution_count": 76,
   "id": "e3cd32a8",
   "metadata": {},
   "outputs": [
    {
     "data": {
      "text/plain": [
       "52       0\n",
       "97       0\n",
       "42       0\n",
       "68       0\n",
       "91       0\n",
       "      ... \n",
       "66     128\n",
       "96     136\n",
       "117    138\n",
       "108    139\n",
       "126    154\n",
       "Name: Runs, Length: 132, dtype: int64"
      ]
     },
     "execution_count": 76,
     "metadata": {},
     "output_type": "execute_result"
    }
   ],
   "source": [
    "s['Runs'].sort_values()"
   ]
  },
  {
   "cell_type": "code",
   "execution_count": 77,
   "id": "7cddd132",
   "metadata": {},
   "outputs": [
    {
     "data": {
      "text/plain": [
       "66     128\n",
       "96     136\n",
       "117    138\n",
       "108    139\n",
       "126    154\n",
       "Name: Runs, dtype: int64"
      ]
     },
     "execution_count": 77,
     "metadata": {},
     "output_type": "execute_result"
    }
   ],
   "source": [
    "s['Runs'].sort_values().tail()"
   ]
  },
  {
   "cell_type": "code",
   "execution_count": 78,
   "id": "f6d85a41",
   "metadata": {},
   "outputs": [
    {
     "data": {
      "text/plain": [
       "126    154\n",
       "108    139\n",
       "117    138\n",
       "96     136\n",
       "66     128\n",
       "      ... \n",
       "75       0\n",
       "42       0\n",
       "68       0\n",
       "15       0\n",
       "91       0\n",
       "Name: Runs, Length: 132, dtype: int64"
      ]
     },
     "execution_count": 78,
     "metadata": {},
     "output_type": "execute_result"
    }
   ],
   "source": [
    "s['Runs'].sort_values(ascending=False)"
   ]
  },
  {
   "cell_type": "code",
   "execution_count": 85,
   "id": "e54f3ed7",
   "metadata": {},
   "outputs": [
    {
     "data": {
      "text/plain": [
       "array([154, 139, 138, 136, 128, 127, 123, 122, 118, 117, 117, 115, 115,\n",
       "       112, 107, 107, 106, 106, 105, 102, 102, 100, 100,  99,  94,  91,\n",
       "        91,  87,  86,  86,  85,  82,  81,  80,  78,  77,  77,  68,  68,\n",
       "        66,  66,  65,  64,  63,  62,  61,  59,  59,  57,  55,  54,  54,\n",
       "        54,  53,  49,  45,  43,  40,  38,  37,  37,  37,  37,  35,  35,\n",
       "        34,  31,  31,  31,  31,  30,  28,  28,  27,  26,  25,  25,  24,\n",
       "        23,  23,  23,  22,  22,  22,  21,  20,  19,  18,  18,  15,  14,\n",
       "        13,  12,  12,  12,  12,  11,  11,  10,  10,   9,   9,   9,   9,\n",
       "         8,   8,   7,   7,   7,   6,   3,   2,   2,   2,   2,   2,   2,\n",
       "         1,   1,   1,   1,   1,   0,   0,   0,   0,   0,   0,   0,   0,\n",
       "         0,   0])"
      ]
     },
     "execution_count": 85,
     "metadata": {},
     "output_type": "execute_result"
    }
   ],
   "source": [
    "s['Runs'].sort_values(ascending=False).values"
   ]
  },
  {
   "cell_type": "code",
   "execution_count": 86,
   "id": "6f8f3cd2",
   "metadata": {},
   "outputs": [
    {
     "data": {
      "text/plain": [
       "154"
      ]
     },
     "execution_count": 86,
     "metadata": {},
     "output_type": "execute_result"
    }
   ],
   "source": [
    "#Method_chaining\n",
    "s['Runs'].sort_values(ascending=False).values[0]"
   ]
  },
  {
   "cell_type": "code",
   "execution_count": 98,
   "id": "b9c2d24b",
   "metadata": {},
   "outputs": [],
   "source": [
    "#for original change\n",
    "#inplace=True\n",
    "a=s['Runs'].copy()\n",
    "a.sort_values(inplace=True)"
   ]
  },
  {
   "cell_type": "code",
   "execution_count": 99,
   "id": "608890dd",
   "metadata": {},
   "outputs": [
    {
     "data": {
      "text/plain": [
       "52       0\n",
       "97       0\n",
       "42       0\n",
       "68       0\n",
       "91       0\n",
       "      ... \n",
       "66     128\n",
       "96     136\n",
       "117    138\n",
       "108    139\n",
       "126    154\n",
       "Name: Runs, Length: 132, dtype: int64"
      ]
     },
     "execution_count": 99,
     "metadata": {},
     "output_type": "execute_result"
    }
   ],
   "source": [
    "a"
   ]
  },
  {
   "cell_type": "code",
   "execution_count": 104,
   "id": "3b87cc72",
   "metadata": {},
   "outputs": [],
   "source": [
    "#sort_index\n",
    "a=s['Runs'].head()"
   ]
  },
  {
   "cell_type": "code",
   "execution_count": 105,
   "id": "e423f808",
   "metadata": {},
   "outputs": [
    {
     "data": {
      "text/plain": [
       "0    12\n",
       "1    37\n",
       "2    25\n",
       "3    54\n",
       "4    31\n",
       "Name: Runs, dtype: int64"
      ]
     },
     "execution_count": 105,
     "metadata": {},
     "output_type": "execute_result"
    }
   ],
   "source": [
    "a"
   ]
  },
  {
   "cell_type": "code",
   "execution_count": 106,
   "id": "189d46db",
   "metadata": {},
   "outputs": [],
   "source": [
    "b = pd.Series(a,index=[4,2,3,1,6])"
   ]
  },
  {
   "cell_type": "code",
   "execution_count": 107,
   "id": "a8742d09",
   "metadata": {},
   "outputs": [
    {
     "data": {
      "text/plain": [
       "4    31.0\n",
       "2    25.0\n",
       "3    54.0\n",
       "1    37.0\n",
       "6     NaN\n",
       "Name: Runs, dtype: float64"
      ]
     },
     "execution_count": 107,
     "metadata": {},
     "output_type": "execute_result"
    }
   ],
   "source": [
    "b"
   ]
  },
  {
   "cell_type": "code",
   "execution_count": 109,
   "id": "596f864c",
   "metadata": {},
   "outputs": [],
   "source": [
    "b.sort_index(inplace=True)"
   ]
  },
  {
   "cell_type": "code",
   "execution_count": 110,
   "id": "09cf8784",
   "metadata": {},
   "outputs": [
    {
     "data": {
      "text/plain": [
       "1    37.0\n",
       "2    25.0\n",
       "3    54.0\n",
       "4    31.0\n",
       "6     NaN\n",
       "Name: Runs, dtype: float64"
      ]
     },
     "execution_count": 110,
     "metadata": {},
     "output_type": "execute_result"
    }
   ],
   "source": [
    "b"
   ]
  },
  {
   "cell_type": "code",
   "execution_count": 112,
   "id": "49bc0c1d",
   "metadata": {},
   "outputs": [],
   "source": [
    "b.sort_index(ascending=False,inplace=True)"
   ]
  },
  {
   "cell_type": "code",
   "execution_count": 113,
   "id": "1a112b0b",
   "metadata": {},
   "outputs": [
    {
     "data": {
      "text/plain": [
       "6     NaN\n",
       "4    31.0\n",
       "3    54.0\n",
       "2    25.0\n",
       "1    37.0\n",
       "Name: Runs, dtype: float64"
      ]
     },
     "execution_count": 113,
     "metadata": {},
     "output_type": "execute_result"
    }
   ],
   "source": [
    "b"
   ]
  },
  {
   "cell_type": "markdown",
   "id": "f99304e8",
   "metadata": {},
   "source": [
    "# Series Math Methods"
   ]
  },
  {
   "cell_type": "code",
   "execution_count": 116,
   "id": "bad55e0a",
   "metadata": {},
   "outputs": [
    {
     "data": {
      "text/plain": [
       "132"
      ]
     },
     "execution_count": 116,
     "metadata": {},
     "output_type": "execute_result"
    }
   ],
   "source": [
    "#count\n",
    "#count not consider the missing values but size consider them.\n",
    "s['Runs'].count()"
   ]
  },
  {
   "cell_type": "code",
   "execution_count": 117,
   "id": "5fadd0cd",
   "metadata": {},
   "outputs": [
    {
     "data": {
      "text/plain": [
       "6184"
      ]
     },
     "execution_count": 117,
     "metadata": {},
     "output_type": "execute_result"
    }
   ],
   "source": [
    "#sum\n",
    "#total runs make by VK\n",
    "s['Runs'].sum()"
   ]
  },
  {
   "cell_type": "code",
   "execution_count": 118,
   "id": "b52830b7",
   "metadata": {},
   "outputs": [
    {
     "data": {
      "text/plain": [
       "0"
      ]
     },
     "execution_count": 118,
     "metadata": {},
     "output_type": "execute_result"
    }
   ],
   "source": [
    "#product\n",
    "s['Runs'].product()"
   ]
  },
  {
   "cell_type": "code",
   "execution_count": 119,
   "id": "24c3ddb6",
   "metadata": {},
   "outputs": [
    {
     "data": {
      "text/plain": [
       "46.84848484848485"
      ]
     },
     "execution_count": 119,
     "metadata": {},
     "output_type": "execute_result"
    }
   ],
   "source": [
    "#mean #median #mode #std #var\n",
    "a = s['Runs']\n",
    "a.mean()"
   ]
  },
  {
   "cell_type": "code",
   "execution_count": 121,
   "id": "bb816f26",
   "metadata": {},
   "outputs": [
    {
     "data": {
      "text/plain": [
       "0    0\n",
       "Name: Runs, dtype: int64"
      ]
     },
     "execution_count": 121,
     "metadata": {},
     "output_type": "execute_result"
    }
   ],
   "source": [
    "#more time ocurring item\n",
    "a.mode()"
   ]
  },
  {
   "cell_type": "code",
   "execution_count": 124,
   "id": "3735e84d",
   "metadata": {},
   "outputs": [
    {
     "data": {
      "text/plain": [
       "0      10\n",
       "2       6\n",
       "1       5\n",
       "12      4\n",
       "37      4\n",
       "       ..\n",
       "21      1\n",
       "128     1\n",
       "6       1\n",
       "15      1\n",
       "55      1\n",
       "Name: Runs, Length: 75, dtype: int64"
      ]
     },
     "execution_count": 124,
     "metadata": {},
     "output_type": "execute_result"
    }
   ],
   "source": [
    "a.value_counts()"
   ]
  },
  {
   "cell_type": "code",
   "execution_count": 125,
   "id": "de6bfac3",
   "metadata": {},
   "outputs": [
    {
     "data": {
      "text/plain": [
       "32.5"
      ]
     },
     "execution_count": 125,
     "metadata": {},
     "output_type": "execute_result"
    }
   ],
   "source": [
    "a.median()"
   ]
  },
  {
   "cell_type": "code",
   "execution_count": 126,
   "id": "353a3a16",
   "metadata": {},
   "outputs": [
    {
     "data": {
      "text/plain": [
       "41.994635216891325"
      ]
     },
     "execution_count": 126,
     "metadata": {},
     "output_type": "execute_result"
    }
   ],
   "source": [
    "a.std()"
   ]
  },
  {
   "cell_type": "code",
   "execution_count": 127,
   "id": "4fe09e88",
   "metadata": {},
   "outputs": [
    {
     "data": {
      "text/plain": [
       "1763.549386999769"
      ]
     },
     "execution_count": 127,
     "metadata": {},
     "output_type": "execute_result"
    }
   ],
   "source": [
    "a.var()"
   ]
  },
  {
   "cell_type": "code",
   "execution_count": 128,
   "id": "6526d1b4",
   "metadata": {},
   "outputs": [
    {
     "data": {
      "text/plain": [
       "154"
      ]
     },
     "execution_count": 128,
     "metadata": {},
     "output_type": "execute_result"
    }
   ],
   "source": [
    "#min/max\n",
    "a.max()"
   ]
  },
  {
   "cell_type": "code",
   "execution_count": 129,
   "id": "1fdd6a81",
   "metadata": {},
   "outputs": [
    {
     "data": {
      "text/plain": [
       "0"
      ]
     },
     "execution_count": 129,
     "metadata": {},
     "output_type": "execute_result"
    }
   ],
   "source": [
    "a.min()"
   ]
  },
  {
   "cell_type": "code",
   "execution_count": 130,
   "id": "af02ffa2",
   "metadata": {},
   "outputs": [
    {
     "data": {
      "text/plain": [
       "count    132.000000\n",
       "mean      46.848485\n",
       "std       41.994635\n",
       "min        0.000000\n",
       "25%       10.000000\n",
       "50%       32.500000\n",
       "75%       80.250000\n",
       "max      154.000000\n",
       "Name: Runs, dtype: float64"
      ]
     },
     "execution_count": 130,
     "metadata": {},
     "output_type": "execute_result"
    }
   ],
   "source": [
    "#describe --> all info related maths\n",
    "a.describe()"
   ]
  },
  {
   "cell_type": "markdown",
   "id": "f927f314",
   "metadata": {},
   "source": [
    "# Series Indexing"
   ]
  },
  {
   "cell_type": "code",
   "execution_count": 132,
   "id": "bfd8b98d",
   "metadata": {},
   "outputs": [],
   "source": [
    "x = pd.Series(np.arange(11,20))"
   ]
  },
  {
   "cell_type": "code",
   "execution_count": 133,
   "id": "033add11",
   "metadata": {},
   "outputs": [
    {
     "data": {
      "text/plain": [
       "0    11\n",
       "1    12\n",
       "2    13\n",
       "3    14\n",
       "4    15\n",
       "5    16\n",
       "6    17\n",
       "7    18\n",
       "8    19\n",
       "dtype: int64"
      ]
     },
     "execution_count": 133,
     "metadata": {},
     "output_type": "execute_result"
    }
   ],
   "source": [
    "x"
   ]
  },
  {
   "cell_type": "code",
   "execution_count": 134,
   "id": "58bb0bab",
   "metadata": {},
   "outputs": [
    {
     "data": {
      "text/plain": [
       "12"
      ]
     },
     "execution_count": 134,
     "metadata": {},
     "output_type": "execute_result"
    }
   ],
   "source": [
    "x[1]"
   ]
  },
  {
   "cell_type": "code",
   "execution_count": 135,
   "id": "270a1722",
   "metadata": {},
   "outputs": [],
   "source": [
    "#negative indexing will not work in pandas\n"
   ]
  },
  {
   "cell_type": "markdown",
   "id": "896a77a8",
   "metadata": {},
   "source": [
    "# Slicing"
   ]
  },
  {
   "cell_type": "code",
   "execution_count": 136,
   "id": "09064ceb",
   "metadata": {},
   "outputs": [
    {
     "data": {
      "text/plain": [
       "4    15\n",
       "5    16\n",
       "6    17\n",
       "7    18\n",
       "8    19\n",
       "dtype: int64"
      ]
     },
     "execution_count": 136,
     "metadata": {},
     "output_type": "execute_result"
    }
   ],
   "source": [
    "x[4:9]"
   ]
  },
  {
   "cell_type": "code",
   "execution_count": 137,
   "id": "02db2b8d",
   "metadata": {},
   "outputs": [
    {
     "data": {
      "text/plain": [
       "4    15\n",
       "5    16\n",
       "6    17\n",
       "7    18\n",
       "8    19\n",
       "dtype: int64"
      ]
     },
     "execution_count": 137,
     "metadata": {},
     "output_type": "execute_result"
    }
   ],
   "source": [
    "#negative slicing\n",
    "x[-5:]"
   ]
  },
  {
   "cell_type": "code",
   "execution_count": 138,
   "id": "ddaedb2d",
   "metadata": {},
   "outputs": [
    {
     "data": {
      "text/plain": [
       "0    11\n",
       "2    13\n",
       "4    15\n",
       "6    17\n",
       "8    19\n",
       "dtype: int64"
      ]
     },
     "execution_count": 138,
     "metadata": {},
     "output_type": "execute_result"
    }
   ],
   "source": [
    "x[::2]"
   ]
  },
  {
   "cell_type": "code",
   "execution_count": 139,
   "id": "6f166401",
   "metadata": {},
   "outputs": [
    {
     "data": {
      "text/plain": [
       "2    13\n",
       "3    14\n",
       "4    15\n",
       "dtype: int64"
      ]
     },
     "execution_count": 139,
     "metadata": {},
     "output_type": "execute_result"
    }
   ],
   "source": [
    "#fancy indexing\n",
    "x[[2,3,4]]"
   ]
  },
  {
   "cell_type": "code",
   "execution_count": 140,
   "id": "81c5bda0",
   "metadata": {},
   "outputs": [
    {
     "data": {
      "text/plain": [
       "nan"
      ]
     },
     "execution_count": 140,
     "metadata": {},
     "output_type": "execute_result"
    }
   ],
   "source": [
    "#indexing using labels\n",
    "b[6]"
   ]
  },
  {
   "cell_type": "markdown",
   "id": "044c1e7e",
   "metadata": {},
   "source": [
    "# Editing Series"
   ]
  },
  {
   "cell_type": "code",
   "execution_count": 144,
   "id": "84e68aaf",
   "metadata": {},
   "outputs": [
    {
     "name": "stdout",
     "output_type": "stream",
     "text": [
      "0     11\n",
      "1     12\n",
      "2     13\n",
      "3    100\n",
      "4     15\n",
      "5     16\n",
      "6     17\n",
      "7     18\n",
      "8     19\n",
      "dtype: int64\n",
      "\n",
      "0     11\n",
      "1     12\n",
      "2     13\n",
      "3    100\n",
      "4     15\n",
      "5     16\n",
      "6     17\n",
      "7     18\n",
      "8     19\n",
      "dtype: int64\n"
     ]
    }
   ],
   "source": [
    "#using indexing\n",
    "print(x)\n",
    "x[3]=100\n",
    "print()\n",
    "print(x)"
   ]
  },
  {
   "cell_type": "code",
   "execution_count": 148,
   "id": "6df53155",
   "metadata": {},
   "outputs": [
    {
     "data": {
      "text/plain": [
       "0          11\n",
       "1          12\n",
       "2          13\n",
       "3         100\n",
       "4          15\n",
       "5          16\n",
       "6          17\n",
       "7          18\n",
       "8          19\n",
       "tushar    100\n",
       "dtype: int64"
      ]
     },
     "execution_count": 148,
     "metadata": {},
     "output_type": "execute_result"
    }
   ],
   "source": [
    "x['tushar']=100\n",
    "x"
   ]
  },
  {
   "cell_type": "code",
   "execution_count": 149,
   "id": "ffcad50b",
   "metadata": {},
   "outputs": [
    {
     "data": {
      "text/plain": [
       "0          11\n",
       "1          12\n",
       "2         100\n",
       "3         100\n",
       "4         100\n",
       "5         100\n",
       "6          17\n",
       "7          18\n",
       "8          19\n",
       "tushar    100\n",
       "dtype: int64"
      ]
     },
     "execution_count": 149,
     "metadata": {},
     "output_type": "execute_result"
    }
   ],
   "source": [
    "x[2:6]=100\n",
    "x"
   ]
  },
  {
   "cell_type": "code",
   "execution_count": 151,
   "id": "2002e502",
   "metadata": {},
   "outputs": [
    {
     "data": {
      "text/plain": [
       "0          11\n",
       "1           0\n",
       "2           0\n",
       "3         100\n",
       "4         100\n",
       "5           0\n",
       "6          17\n",
       "7          18\n",
       "8          19\n",
       "tushar    100\n",
       "dtype: int64"
      ]
     },
     "execution_count": 151,
     "metadata": {},
     "output_type": "execute_result"
    }
   ],
   "source": [
    "x[[2,1,5]]=0\n",
    "x"
   ]
  },
  {
   "cell_type": "code",
   "execution_count": 154,
   "id": "8e044c36",
   "metadata": {},
   "outputs": [
    {
     "name": "stdout",
     "output_type": "stream",
     "text": [
      "before:  7.0\n",
      "after:  7.0\n"
     ]
    }
   ],
   "source": [
    "print(\"before: \",b[6])\n",
    "b[6]=7\n",
    "print(\"after: \",b[6])"
   ]
  },
  {
   "cell_type": "markdown",
   "id": "7f42372d",
   "metadata": {},
   "source": [
    "# SERIES WITH PYTHON FUNCTIONALITIES"
   ]
  },
  {
   "cell_type": "code",
   "execution_count": 159,
   "id": "7b4b20b2",
   "metadata": {},
   "outputs": [
    {
     "name": "stdout",
     "output_type": "stream",
     "text": [
      "10\n",
      "<class 'pandas.core.series.Series'>\n",
      "['T', '_AXIS_LEN', '_AXIS_ORDERS', '_AXIS_TO_AXIS_NUMBER', '_HANDLED_TYPES', '__abs__', '__add__', '__and__', '__annotations__', '__array__', '__array_priority__', '__array_ufunc__', '__array_wrap__', '__bool__', '__class__', '__contains__', '__copy__', '__deepcopy__', '__delattr__', '__delitem__', '__dict__', '__dir__', '__divmod__', '__doc__', '__eq__', '__finalize__', '__float__', '__floordiv__', '__format__', '__ge__', '__getattr__', '__getattribute__', '__getitem__', '__getstate__', '__gt__', '__hash__', '__iadd__', '__iand__', '__ifloordiv__', '__imod__', '__imul__', '__init__', '__init_subclass__', '__int__', '__invert__', '__ior__', '__ipow__', '__isub__', '__iter__', '__itruediv__', '__ixor__', '__le__', '__len__', '__long__', '__lt__', '__matmul__', '__mod__', '__module__', '__mul__', '__ne__', '__neg__', '__new__', '__nonzero__', '__or__', '__pos__', '__pow__', '__radd__', '__rand__', '__rdivmod__', '__reduce__', '__reduce_ex__', '__repr__', '__rfloordiv__', '__rmatmul__', '__rmod__', '__rmul__', '__ror__', '__round__', '__rpow__', '__rsub__', '__rtruediv__', '__rxor__', '__setattr__', '__setitem__', '__setstate__', '__sizeof__', '__str__', '__sub__', '__subclasshook__', '__truediv__', '__weakref__', '__xor__', '_accessors', '_accum_func', '_add_numeric_operations', '_agg_by_level', '_agg_examples_doc', '_agg_see_also_doc', '_align_frame', '_align_series', '_append', '_arith_method', '_as_manager', '_attrs', '_binop', '_can_hold_na', '_check_inplace_and_allows_duplicate_labels', '_check_inplace_setting', '_check_is_chained_assignment_possible', '_check_label_or_level_ambiguity', '_check_setitem_copy', '_clear_item_cache', '_clip_with_one_bound', '_clip_with_scalar', '_cmp_method', '_consolidate', '_consolidate_inplace', '_construct_axes_dict', '_construct_axes_from_arguments', '_construct_result', '_constructor', '_constructor_expanddim', '_convert', '_convert_dtypes', '_data', '_dir_additions', '_dir_deletions', '_drop_axis', '_drop_labels_or_levels', '_duplicated', '_find_valid_index', '_flags', '_from_mgr', '_get_axis', '_get_axis_name', '_get_axis_number', '_get_axis_resolvers', '_get_block_manager_axis', '_get_bool_data', '_get_cacher', '_get_cleaned_column_resolvers', '_get_index_resolvers', '_get_label_or_level_values', '_get_numeric_data', '_get_value', '_get_values', '_get_values_tuple', '_get_with', '_gotitem', '_hidden_attrs', '_indexed_same', '_info_axis', '_info_axis_name', '_info_axis_number', '_init_dict', '_init_mgr', '_inplace_method', '_internal_names', '_internal_names_set', '_is_cached', '_is_copy', '_is_label_or_level_reference', '_is_label_reference', '_is_level_reference', '_is_mixed_type', '_is_view', '_item_cache', '_ixs', '_logical_func', '_logical_method', '_map_values', '_maybe_update_cacher', '_memory_usage', '_metadata', '_mgr', '_min_count_stat_function', '_name', '_needs_reindex_multi', '_protect_consolidate', '_reduce', '_reindex_axes', '_reindex_indexer', '_reindex_multi', '_reindex_with_indexers', '_rename', '_replace_single', '_repr_data_resource_', '_repr_latex_', '_reset_cache', '_reset_cacher', '_set_as_cached', '_set_axis', '_set_axis_name', '_set_axis_nocheck', '_set_is_copy', '_set_labels', '_set_name', '_set_value', '_set_values', '_set_with', '_set_with_engine', '_slice', '_stat_axis', '_stat_axis_name', '_stat_axis_number', '_stat_function', '_stat_function_ddof', '_take_with_is_copy', '_typ', '_update_inplace', '_validate_dtype', '_values', '_where', 'abs', 'add', 'add_prefix', 'add_suffix', 'agg', 'aggregate', 'align', 'all', 'any', 'append', 'apply', 'argmax', 'argmin', 'argsort', 'array', 'asfreq', 'asof', 'astype', 'at', 'at_time', 'attrs', 'autocorr', 'axes', 'backfill', 'between', 'between_time', 'bfill', 'bool', 'clip', 'combine', 'combine_first', 'compare', 'convert_dtypes', 'copy', 'corr', 'count', 'cov', 'cummax', 'cummin', 'cumprod', 'cumsum', 'describe', 'diff', 'div', 'divide', 'divmod', 'dot', 'drop', 'drop_duplicates', 'droplevel', 'dropna', 'dtype', 'dtypes', 'duplicated', 'empty', 'eq', 'equals', 'ewm', 'expanding', 'explode', 'factorize', 'ffill', 'fillna', 'filter', 'first', 'first_valid_index', 'flags', 'floordiv', 'ge', 'get', 'groupby', 'gt', 'hasnans', 'head', 'hist', 'iat', 'idxmax', 'idxmin', 'iloc', 'index', 'infer_objects', 'info', 'interpolate', 'is_monotonic', 'is_monotonic_decreasing', 'is_monotonic_increasing', 'is_unique', 'isin', 'isna', 'isnull', 'item', 'items', 'iteritems', 'keys', 'kurt', 'kurtosis', 'last', 'last_valid_index', 'le', 'loc', 'lt', 'mad', 'map', 'mask', 'max', 'mean', 'median', 'memory_usage', 'min', 'mod', 'mode', 'mul', 'multiply', 'name', 'nbytes', 'ndim', 'ne', 'nlargest', 'notna', 'notnull', 'nsmallest', 'nunique', 'pad', 'pct_change', 'pipe', 'plot', 'pop', 'pow', 'prod', 'product', 'quantile', 'radd', 'rank', 'ravel', 'rdiv', 'rdivmod', 'reindex', 'reindex_like', 'rename', 'rename_axis', 'reorder_levels', 'repeat', 'replace', 'resample', 'reset_index', 'rfloordiv', 'rmod', 'rmul', 'rolling', 'round', 'rpow', 'rsub', 'rtruediv', 'sample', 'searchsorted', 'sem', 'set_axis', 'set_flags', 'shape', 'shift', 'size', 'skew', 'slice_shift', 'sort_index', 'sort_values', 'squeeze', 'std', 'sub', 'subtract', 'sum', 'swapaxes', 'swaplevel', 'tail', 'take', 'to_clipboard', 'to_csv', 'to_dict', 'to_excel', 'to_frame', 'to_hdf', 'to_json', 'to_latex', 'to_list', 'to_markdown', 'to_numpy', 'to_period', 'to_pickle', 'to_sql', 'to_string', 'to_timestamp', 'to_xarray', 'transform', 'transpose', 'truediv', 'truncate', 'tushar', 'tz_convert', 'tz_localize', 'unique', 'unstack', 'update', 'value_counts', 'values', 'var', 'view', 'where', 'xs']\n"
     ]
    }
   ],
   "source": [
    "#len /type/dir/sorted/max/min\n",
    "print(len(x))\n",
    "print()\n",
    "print(type(x))\n",
    "print()\n",
    "print(dir(x)) #gives all attributes and methods on series"
   ]
  },
  {
   "cell_type": "code",
   "execution_count": 161,
   "id": "c2bb806e",
   "metadata": {},
   "outputs": [
    {
     "name": "stdout",
     "output_type": "stream",
     "text": [
      "[0, 0, 0, 11, 17, 18, 19, 100, 100, 100]\n",
      "0\n",
      "100\n"
     ]
    }
   ],
   "source": [
    "print(sorted(x)) # but it will return list o/p\n",
    "print(min(x))\n",
    "print(max(x))"
   ]
  },
  {
   "cell_type": "code",
   "execution_count": 162,
   "id": "3f82d005",
   "metadata": {},
   "outputs": [
    {
     "data": {
      "text/plain": [
       "0          11\n",
       "1           0\n",
       "2           0\n",
       "3         100\n",
       "4         100\n",
       "5           0\n",
       "6          17\n",
       "7          18\n",
       "8          19\n",
       "tushar    100\n",
       "dtype: int64"
      ]
     },
     "execution_count": 162,
     "metadata": {},
     "output_type": "execute_result"
    }
   ],
   "source": [
    "#type conversion\n",
    "x"
   ]
  },
  {
   "cell_type": "code",
   "execution_count": 163,
   "id": "f9a7ca07",
   "metadata": {},
   "outputs": [
    {
     "data": {
      "text/plain": [
       "[11, 0, 0, 100, 100, 0, 17, 18, 19, 100]"
      ]
     },
     "execution_count": 163,
     "metadata": {},
     "output_type": "execute_result"
    }
   ],
   "source": [
    "list(x)"
   ]
  },
  {
   "cell_type": "code",
   "execution_count": 164,
   "id": "6c2dbe7b",
   "metadata": {},
   "outputs": [
    {
     "data": {
      "text/plain": [
       "{0: 11, 1: 0, 2: 0, 3: 100, 4: 100, 5: 0, 6: 17, 7: 18, 8: 19, 'tushar': 100}"
      ]
     },
     "execution_count": 164,
     "metadata": {},
     "output_type": "execute_result"
    }
   ],
   "source": [
    "dict(x)"
   ]
  },
  {
   "cell_type": "code",
   "execution_count": 166,
   "id": "ce4b5409",
   "metadata": {},
   "outputs": [
    {
     "data": {
      "text/plain": [
       "False"
      ]
     },
     "execution_count": 166,
     "metadata": {},
     "output_type": "execute_result"
    }
   ],
   "source": [
    "#membership operater\n",
    "100 in x #because it work on index not on value"
   ]
  },
  {
   "cell_type": "code",
   "execution_count": 167,
   "id": "509f2be6",
   "metadata": {},
   "outputs": [
    {
     "data": {
      "text/plain": [
       "True"
      ]
     },
     "execution_count": 167,
     "metadata": {},
     "output_type": "execute_result"
    }
   ],
   "source": [
    "2 in x"
   ]
  },
  {
   "cell_type": "code",
   "execution_count": 168,
   "id": "bc0948ed",
   "metadata": {},
   "outputs": [
    {
     "name": "stdout",
     "output_type": "stream",
     "text": [
      "11\n",
      "0\n",
      "0\n",
      "100\n",
      "100\n",
      "0\n",
      "17\n",
      "18\n",
      "19\n",
      "100\n"
     ]
    }
   ],
   "source": [
    "#looping\n",
    "for i in x:\n",
    "    print(i)"
   ]
  },
  {
   "cell_type": "code",
   "execution_count": 169,
   "id": "f4003faf",
   "metadata": {},
   "outputs": [
    {
     "name": "stdout",
     "output_type": "stream",
     "text": [
      "0\n",
      "1\n",
      "2\n",
      "3\n",
      "4\n",
      "5\n",
      "6\n",
      "7\n",
      "8\n",
      "tushar\n"
     ]
    }
   ],
   "source": [
    "for i in x.index:\n",
    "    print(i)"
   ]
  },
  {
   "cell_type": "code",
   "execution_count": 170,
   "id": "c94acd88",
   "metadata": {},
   "outputs": [
    {
     "data": {
      "text/plain": [
       "0          89\n",
       "1         100\n",
       "2         100\n",
       "3           0\n",
       "4           0\n",
       "5         100\n",
       "6          83\n",
       "7          82\n",
       "8          81\n",
       "tushar      0\n",
       "dtype: int64"
      ]
     },
     "execution_count": 170,
     "metadata": {},
     "output_type": "execute_result"
    }
   ],
   "source": [
    "#arithmetic Operators\n",
    "100-x"
   ]
  },
  {
   "cell_type": "code",
   "execution_count": 173,
   "id": "1b040fb2",
   "metadata": {},
   "outputs": [
    {
     "data": {
      "text/plain": [
       "0         False\n",
       "1         False\n",
       "2         False\n",
       "3          True\n",
       "4          True\n",
       "5         False\n",
       "6         False\n",
       "7         False\n",
       "8         False\n",
       "tushar     True\n",
       "dtype: bool"
      ]
     },
     "execution_count": 173,
     "metadata": {},
     "output_type": "execute_result"
    }
   ],
   "source": [
    "#relational Operator\n",
    "x > 50"
   ]
  },
  {
   "cell_type": "markdown",
   "id": "4150afc7",
   "metadata": {},
   "source": [
    "# Boolean Indexing on series\n"
   ]
  },
  {
   "cell_type": "code",
   "execution_count": 177,
   "id": "e8b04db4",
   "metadata": {},
   "outputs": [
    {
     "data": {
      "text/plain": [
       "10     107\n",
       "12     102\n",
       "21     118\n",
       "22     105\n",
       "32     100\n",
       "47     107\n",
       "49     112\n",
       "54     117\n",
       "63     106\n",
       "66     128\n",
       "78     102\n",
       "79     115\n",
       "83     100\n",
       "85     115\n",
       "92     123\n",
       "96     136\n",
       "103    127\n",
       "108    139\n",
       "117    138\n",
       "121    117\n",
       "122    106\n",
       "126    154\n",
       "129    122\n",
       "Name: Runs, dtype: int64"
      ]
     },
     "execution_count": 177,
     "metadata": {},
     "output_type": "execute_result"
    }
   ],
   "source": [
    "a[a>=100]"
   ]
  },
  {
   "cell_type": "code",
   "execution_count": 178,
   "id": "869b9bae",
   "metadata": {},
   "outputs": [
    {
     "data": {
      "text/plain": [
       "23"
      ]
     },
     "execution_count": 178,
     "metadata": {},
     "output_type": "execute_result"
    }
   ],
   "source": [
    "a[a>=100].size"
   ]
  },
  {
   "cell_type": "code",
   "execution_count": 179,
   "id": "e6fbc55c",
   "metadata": {},
   "outputs": [
    {
     "data": {
      "text/plain": [
       "10"
      ]
     },
     "execution_count": 179,
     "metadata": {},
     "output_type": "execute_result"
    }
   ],
   "source": [
    "a[a==0].size"
   ]
  },
  {
   "cell_type": "code",
   "execution_count": 180,
   "id": "0681cc0f",
   "metadata": {},
   "outputs": [
    {
     "data": {
      "text/plain": [
       "v Sri Lanka       24\n",
       "v England         21\n",
       "v Australia       20\n",
       "v West Indies     19\n",
       "v South Africa    15\n",
       "v New Zealand     14\n",
       "v Bangladesh       8\n",
       "v Zimbabwe         5\n",
       "v Pakistan         4\n",
       "v Ireland          1\n",
       "v Netherlands      1\n",
       "Name: Opposition, dtype: int64"
      ]
     },
     "execution_count": 180,
     "metadata": {},
     "output_type": "execute_result"
    }
   ],
   "source": [
    "s['Opposition'].value_counts()"
   ]
  },
  {
   "cell_type": "code",
   "execution_count": 244,
   "id": "36725615",
   "metadata": {},
   "outputs": [
    {
     "data": {
      "text/plain": [
       "v Sri Lanka       24\n",
       "v England         21\n",
       "v Australia       20\n",
       "v West Indies     19\n",
       "v South Africa    15\n",
       "v New Zealand     14\n",
       "v Bangladesh       8\n",
       "v Zimbabwe         5\n",
       "v Pakistan         4\n",
       "v Ireland          1\n",
       "v Netherlands      1\n",
       "Name: Opposition, dtype: int64"
      ]
     },
     "execution_count": 244,
     "metadata": {},
     "output_type": "execute_result"
    }
   ],
   "source": [
    "x=s['Opposition'].value_counts()\n",
    "x"
   ]
  },
  {
   "cell_type": "code",
   "execution_count": 245,
   "id": "7610bd9c",
   "metadata": {},
   "outputs": [
    {
     "data": {
      "text/plain": [
       "v Sri Lanka    24\n",
       "v England      21\n",
       "Name: Opposition, dtype: int64"
      ]
     },
     "execution_count": 245,
     "metadata": {},
     "output_type": "execute_result"
    }
   ],
   "source": [
    "x[x>20]"
   ]
  },
  {
   "cell_type": "markdown",
   "id": "b8925843",
   "metadata": {},
   "source": [
    "# Plotting graps on Series"
   ]
  },
  {
   "cell_type": "code",
   "execution_count": 246,
   "id": "50f97d8c",
   "metadata": {},
   "outputs": [
    {
     "data": {
      "text/plain": [
       "<AxesSubplot:>"
      ]
     },
     "execution_count": 246,
     "metadata": {},
     "output_type": "execute_result"
    },
    {
     "data": {
      "image/png": "[encoded data removed]",
      "text/plain": [
       "<Figure size 640x480 with 1 Axes>"
      ]
     },
     "metadata": {},
     "output_type": "display_data"
    }
   ],
   "source": [
    "x.plot()"
   ]
  },
  {
   "cell_type": "code",
   "execution_count": 247,
   "id": "e51af61f",
   "metadata": {},
   "outputs": [
    {
     "data": {
      "text/plain": [
       "<AxesSubplot:>"
      ]
     },
     "execution_count": 247,
     "metadata": {},
     "output_type": "execute_result"
    },
    {
     "data": {
      "image/png": "[encoded data removed]",
      "text/plain": [
       "<Figure size 640x480 with 1 Axes>"
      ]
     },
     "metadata": {},
     "output_type": "display_data"
    }
   ],
   "source": [
    "x.plot(kind=\"bar\")"
   ]
  },
  {
   "cell_type": "code",
   "execution_count": 250,
   "id": "64aeb22c",
   "metadata": {},
   "outputs": [
    {
     "data": {
      "text/plain": [
       "<AxesSubplot:ylabel='Opposition'>"
      ]
     },
     "execution_count": 250,
     "metadata": {},
     "output_type": "execute_result"
    },
    {
     "data": {
      "image/png": "[encoded data removed]",
      "text/plain": [
       "<Figure size 640x480 with 1 Axes>"
      ]
     },
     "metadata": {},
     "output_type": "display_data"
    }
   ],
   "source": [
    "x.plot(kind=\"pie\")"
   ]
  },
  {
   "cell_type": "code",
   "execution_count": 279,
   "id": "9002c696",
   "metadata": {},
   "outputs": [
    {
     "data": {
      "text/plain": [
       "v Sri Lanka       12\n",
       "v Sri Lanka       37\n",
       "v Sri Lanka       25\n",
       "v Sri Lanka       54\n",
       "v Sri Lanka       31\n",
       "                ... \n",
       "v New Zealand     45\n",
       "v New Zealand     65\n",
       "v England        122\n",
       "v England          8\n",
       "v England         55\n",
       "Length: 132, dtype: int64"
      ]
     },
     "execution_count": 279,
     "metadata": {},
     "output_type": "execute_result"
    }
   ],
   "source": [
    "x=list(s['Runs'])\n",
    "y = list(s['Opposition'])\n",
    "z = pd.Series(x,index=y)\n",
    "z"
   ]
  },
  {
   "cell_type": "code",
   "execution_count": 324,
   "id": "8a807e05",
   "metadata": {},
   "outputs": [
    {
     "data": {
      "text/plain": [
       "v Australia      9\n",
       "v Australia     12\n",
       "v Australia     21\n",
       "v Australia     31\n",
       "v Australia     24\n",
       "              ... \n",
       "v Zimbabwe      18\n",
       "v Zimbabwe     115\n",
       "v Zimbabwe      14\n",
       "v Zimbabwe      68\n",
       "v Zimbabwe       0\n",
       "Length: 132, dtype: int64"
      ]
     },
     "execution_count": 324,
     "metadata": {},
     "output_type": "execute_result"
    }
   ],
   "source": [
    "z.sort_index()"
   ]
  },
  {
   "cell_type": "code",
   "execution_count": 331,
   "id": "96b50669",
   "metadata": {},
   "outputs": [],
   "source": [
    "r = s['Opposition'].value_counts().sort_index().values\n",
    "t = s['Opposition'].value_counts().sort_index().index"
   ]
  },
  {
   "cell_type": "code",
   "execution_count": 330,
   "id": "16f20cad",
   "metadata": {},
   "outputs": [],
   "source": [
    "run=[]\n",
    "team=[]\n",
    "count=0\n",
    "for i in r:\n",
    "    sum=0\n",
    "    for j in range(i):\n",
    "        sum=sum+z.sort_index()[j]\n",
    "    run.append(sum)\n",
    "    team.append(t[count])\n",
    "    count=count+1"
   ]
  },
  {
   "cell_type": "code",
   "execution_count": 332,
   "id": "9567a13e",
   "metadata": {},
   "outputs": [
    {
     "name": "stdout",
     "output_type": "stream",
     "text": [
      "[20  8 21  1  1 14  4 15 24 19  5]\n",
      "Index(['v Australia', 'v Bangladesh', 'v England', 'v Ireland',\n",
      "       'v Netherlands', 'v New Zealand', 'v Pakistan', 'v South Africa',\n",
      "       'v Sri Lanka', 'v West Indies', 'v Zimbabwe'],\n",
      "      dtype='object')\n"
     ]
    }
   ],
   "source": [
    "print(r)\n",
    "print(t)"
   ]
  },
  {
   "cell_type": "code",
   "execution_count": 333,
   "id": "38864bd4",
   "metadata": {},
   "outputs": [
    {
     "name": "stdout",
     "output_type": "stream",
     "text": [
      "['v Australia', 'v Bangladesh', 'v England', 'v Ireland', 'v Netherlands', 'v New Zealand', 'v Pakistan', 'v South Africa', 'v Sri Lanka', 'v West Indies', 'v Zimbabwe']\n"
     ]
    }
   ],
   "source": [
    "print(team)"
   ]
  },
  {
   "cell_type": "code",
   "execution_count": 334,
   "id": "bbb1fe15",
   "metadata": {},
   "outputs": [
    {
     "name": "stdout",
     "output_type": "stream",
     "text": [
      "[999, 324, 1065, 9, 9, 570, 73, 685, 1204, 893, 97]\n"
     ]
    }
   ],
   "source": [
    "print(run)"
   ]
  },
  {
   "cell_type": "code",
   "execution_count": 345,
   "id": "70cbec91",
   "metadata": {},
   "outputs": [
    {
     "data": {
      "image/png": "[encoded data removed]",
      "text/plain": [
       "<Figure size 640x480 with 1 Axes>"
      ]
     },
     "metadata": {},
     "output_type": "display_data"
    }
   ],
   "source": [
    "x= pd.Series(run,index=team).sort_values(ascending=False).head().plot(kind=\"bar\")"
   ]
  },
  {
   "cell_type": "code",
   "execution_count": 343,
   "id": "631cefbc",
   "metadata": {},
   "outputs": [
    {
     "data": {
      "text/plain": [
       "v Sri Lanka       1204\n",
       "v England         1065\n",
       "v Australia        999\n",
       "v West Indies      893\n",
       "v South Africa     685\n",
       "v New Zealand      570\n",
       "v Bangladesh       324\n",
       "v Zimbabwe          97\n",
       "v Pakistan          73\n",
       "v Ireland            9\n",
       "v Netherlands        9\n",
       "dtype: int64"
      ]
     },
     "execution_count": 343,
     "metadata": {},
     "output_type": "execute_result"
    }
   ],
   "source": [
    "x= pd.Series(run,index=team)\n",
    "x.sort_values(ascending=False)"
   ]
  },
  {
   "cell_type": "code",
   "execution_count": 346,
   "id": "c0c6ffab",
   "metadata": {},
   "outputs": [
    {
     "data": {
      "image/png": "[encoded data removed]",
      "text/plain": [
       "<Figure size 640x480 with 1 Axes>"
      ]
     },
     "metadata": {},
     "output_type": "display_data"
    }
   ],
   "source": [
    "x= pd.Series(run,index=team).sort_values(ascending=False).head().plot(kind=\"pie\")"
   ]
  },
  {
   "cell_type": "code",
   "execution_count": 348,
   "id": "3220db71",
   "metadata": {},
   "outputs": [
    {
     "data": {
      "text/plain": [
       "1200"
      ]
     },
     "execution_count": 348,
     "metadata": {},
     "output_type": "execute_result"
    }
   ],
   "source": [
    "x=s['Runs']\n",
    "import sys\n",
    "sys.getsizeof(x)"
   ]
  },
  {
   "cell_type": "code",
   "execution_count": 352,
   "id": "2568be06",
   "metadata": {},
   "outputs": [
    {
     "data": {
      "text/plain": [
       "276"
      ]
     },
     "execution_count": 352,
     "metadata": {},
     "output_type": "execute_result"
    }
   ],
   "source": [
    "sys.getsizeof(x.astype('int8'))"
   ]
  },
  {
   "cell_type": "code",
   "execution_count": 353,
   "id": "7a103c2b",
   "metadata": {},
   "outputs": [
    {
     "data": {
      "text/plain": [
       "0       12\n",
       "1       37\n",
       "2       25\n",
       "3       54\n",
       "4       31\n",
       "      ... \n",
       "127     45\n",
       "128     65\n",
       "129    122\n",
       "130      8\n",
       "131     55\n",
       "Name: Runs, Length: 132, dtype: int8"
      ]
     },
     "execution_count": 353,
     "metadata": {},
     "output_type": "execute_result"
    }
   ],
   "source": [
    "x.astype('int8')"
   ]
  },
  {
   "cell_type": "code",
   "execution_count": 356,
   "id": "7aef09c3",
   "metadata": {},
   "outputs": [
    {
     "data": {
      "text/plain": [
       "0      False\n",
       "1      False\n",
       "2      False\n",
       "3      False\n",
       "4      False\n",
       "       ...  \n",
       "127    False\n",
       "128    False\n",
       "129    False\n",
       "130    False\n",
       "131    False\n",
       "Name: Runs, Length: 132, dtype: bool"
      ]
     },
     "execution_count": 356,
     "metadata": {},
     "output_type": "execute_result"
    }
   ],
   "source": [
    "#between\n",
    "x.between(90,100)"
   ]
  },
  {
   "cell_type": "code",
   "execution_count": 358,
   "id": "c04234df",
   "metadata": {},
   "outputs": [
    {
     "data": {
      "text/plain": [
       "11     91\n",
       "44     94\n",
       "88     99\n",
       "119    91\n",
       "Name: Runs, dtype: int64"
      ]
     },
     "execution_count": 358,
     "metadata": {},
     "output_type": "execute_result"
    }
   ],
   "source": [
    "x[x.between(90,99)]"
   ]
  },
  {
   "cell_type": "code",
   "execution_count": 359,
   "id": "cbe7e7a3",
   "metadata": {},
   "outputs": [
    {
     "data": {
      "text/plain": [
       "0       12\n",
       "1       37\n",
       "2       25\n",
       "3       54\n",
       "4       31\n",
       "      ... \n",
       "127     45\n",
       "128     65\n",
       "129    122\n",
       "130      8\n",
       "131     55\n",
       "Name: Runs, Length: 132, dtype: int64"
      ]
     },
     "execution_count": 359,
     "metadata": {},
     "output_type": "execute_result"
    }
   ],
   "source": [
    "#clip\n",
    "x"
   ]
  },
  {
   "cell_type": "code",
   "execution_count": 360,
   "id": "5860ea9b",
   "metadata": {},
   "outputs": [
    {
     "data": {
      "text/plain": [
       "0      100\n",
       "1      100\n",
       "2      100\n",
       "3      100\n",
       "4      100\n",
       "      ... \n",
       "127    100\n",
       "128    100\n",
       "129    122\n",
       "130    100\n",
       "131    100\n",
       "Name: Runs, Length: 132, dtype: int64"
      ]
     },
     "execution_count": 360,
     "metadata": {},
     "output_type": "execute_result"
    }
   ],
   "source": [
    "x.clip(100,200) \n",
    "# less 100 become 100 and greater then 200 become 200"
   ]
  },
  {
   "cell_type": "code",
   "execution_count": 361,
   "id": "62f0f62f",
   "metadata": {},
   "outputs": [
    {
     "data": {
      "text/plain": [
       "0       12\n",
       "1       37\n",
       "2       25\n",
       "3       54\n",
       "4       31\n",
       "      ... \n",
       "126    154\n",
       "127     45\n",
       "128     65\n",
       "129    122\n",
       "131     55\n",
       "Name: Runs, Length: 75, dtype: int64"
      ]
     },
     "execution_count": 361,
     "metadata": {},
     "output_type": "execute_result"
    }
   ],
   "source": [
    "#drop_duplicates()\n",
    "x.drop_duplicates()"
   ]
  },
  {
   "cell_type": "code",
   "execution_count": 363,
   "id": "86140f7b",
   "metadata": {},
   "outputs": [
    {
     "data": {
      "text/plain": [
       "6       30\n",
       "8       27\n",
       "14      57\n",
       "17      10\n",
       "21     118\n",
       "      ... \n",
       "127     45\n",
       "128     65\n",
       "129    122\n",
       "130      8\n",
       "131     55\n",
       "Name: Runs, Length: 75, dtype: int64"
      ]
     },
     "execution_count": 363,
     "metadata": {},
     "output_type": "execute_result"
    }
   ],
   "source": [
    "x.drop_duplicates(keep='last')\n",
    "#delete all duplicates hold only last duplicate value"
   ]
  },
  {
   "cell_type": "code",
   "execution_count": 367,
   "id": "82fb5939",
   "metadata": {},
   "outputs": [
    {
     "data": {
      "text/plain": [
       "0      False\n",
       "1      False\n",
       "2      False\n",
       "3      False\n",
       "4      False\n",
       "       ...  \n",
       "127    False\n",
       "128    False\n",
       "129    False\n",
       "130     True\n",
       "131    False\n",
       "Name: Runs, Length: 132, dtype: bool"
      ]
     },
     "execution_count": 367,
     "metadata": {},
     "output_type": "execute_result"
    }
   ],
   "source": [
    "x.duplicated()"
   ]
  },
  {
   "cell_type": "code",
   "execution_count": 368,
   "id": "8efaf4e9",
   "metadata": {},
   "outputs": [
    {
     "data": {
      "text/plain": [
       "57"
      ]
     },
     "execution_count": 368,
     "metadata": {},
     "output_type": "execute_result"
    }
   ],
   "source": [
    "x.duplicated().sum()"
   ]
  },
  {
   "cell_type": "code",
   "execution_count": 373,
   "id": "30cadce2",
   "metadata": {},
   "outputs": [
    {
     "data": {
      "text/plain": [
       "10"
      ]
     },
     "execution_count": 373,
     "metadata": {},
     "output_type": "execute_result"
    }
   ],
   "source": [
    "#isnull\n",
    "a = pd.Series([1,2,3,4,5,np.nan,4,np.nan,9,np.nan])\n",
    "a.size"
   ]
  },
  {
   "cell_type": "code",
   "execution_count": 374,
   "id": "7191d4ad",
   "metadata": {},
   "outputs": [
    {
     "data": {
      "text/plain": [
       "7"
      ]
     },
     "execution_count": 374,
     "metadata": {},
     "output_type": "execute_result"
    }
   ],
   "source": [
    "a.count()"
   ]
  },
  {
   "cell_type": "code",
   "execution_count": 375,
   "id": "5e2bbf12",
   "metadata": {},
   "outputs": [
    {
     "data": {
      "text/plain": [
       "0    False\n",
       "1    False\n",
       "2    False\n",
       "3    False\n",
       "4    False\n",
       "5     True\n",
       "6    False\n",
       "7     True\n",
       "8    False\n",
       "9     True\n",
       "dtype: bool"
      ]
     },
     "execution_count": 375,
     "metadata": {},
     "output_type": "execute_result"
    }
   ],
   "source": [
    "a.isnull()"
   ]
  },
  {
   "cell_type": "code",
   "execution_count": 376,
   "id": "e33626e2",
   "metadata": {},
   "outputs": [
    {
     "data": {
      "text/plain": [
       "3"
      ]
     },
     "execution_count": 376,
     "metadata": {},
     "output_type": "execute_result"
    }
   ],
   "source": [
    "a.isnull().sum()"
   ]
  },
  {
   "cell_type": "code",
   "execution_count": 378,
   "id": "cc9c2fef",
   "metadata": {},
   "outputs": [
    {
     "data": {
      "text/plain": [
       "0    1.0\n",
       "1    2.0\n",
       "2    3.0\n",
       "3    4.0\n",
       "4    5.0\n",
       "6    4.0\n",
       "8    9.0\n",
       "dtype: float64"
      ]
     },
     "execution_count": 378,
     "metadata": {},
     "output_type": "execute_result"
    }
   ],
   "source": [
    "#dropna\n",
    "a.dropna()"
   ]
  },
  {
   "cell_type": "code",
   "execution_count": 380,
   "id": "6570932e",
   "metadata": {},
   "outputs": [
    {
     "data": {
      "text/plain": [
       "0    1.0\n",
       "1    2.0\n",
       "2    3.0\n",
       "3    4.0\n",
       "4    5.0\n",
       "5    0.0\n",
       "6    4.0\n",
       "7    0.0\n",
       "8    9.0\n",
       "9    0.0\n",
       "dtype: float64"
      ]
     },
     "execution_count": 380,
     "metadata": {},
     "output_type": "execute_result"
    }
   ],
   "source": [
    "#fillna\n",
    "a.fillna(0)"
   ]
  },
  {
   "cell_type": "code",
   "execution_count": 382,
   "id": "92f475c3",
   "metadata": {},
   "outputs": [
    {
     "data": {
      "text/plain": [
       "0    1.0\n",
       "1    2.0\n",
       "2    3.0\n",
       "3    4.0\n",
       "4    5.0\n",
       "5    4.0\n",
       "6    4.0\n",
       "7    4.0\n",
       "8    9.0\n",
       "9    4.0\n",
       "dtype: float64"
      ]
     },
     "execution_count": 382,
     "metadata": {},
     "output_type": "execute_result"
    }
   ],
   "source": [
    "a.fillna(a.mean())"
   ]
  },
  {
   "cell_type": "code",
   "execution_count": 383,
   "id": "36e56b9c",
   "metadata": {},
   "outputs": [
    {
     "data": {
      "text/plain": [
       "88     99\n",
       "105    49\n",
       "Name: Runs, dtype: int64"
      ]
     },
     "execution_count": 383,
     "metadata": {},
     "output_type": "execute_result"
    }
   ],
   "source": [
    "#isin\n",
    "x[(x==49)|(x==99)]"
   ]
  },
  {
   "cell_type": "code",
   "execution_count": 388,
   "id": "6284844c",
   "metadata": {},
   "outputs": [
    {
     "data": {
      "text/plain": [
       "15      0\n",
       "19      0\n",
       "25      0\n",
       "42      0\n",
       "52      0\n",
       "68      0\n",
       "75      0\n",
       "86      0\n",
       "88     99\n",
       "91      0\n",
       "97      0\n",
       "105    49\n",
       "Name: Runs, dtype: int64"
      ]
     },
     "execution_count": 388,
     "metadata": {},
     "output_type": "execute_result"
    }
   ],
   "source": [
    "x[x.isin([49,99,0])]"
   ]
  },
  {
   "cell_type": "code",
   "execution_count": 391,
   "id": "f56b2262",
   "metadata": {},
   "outputs": [
    {
     "data": {
      "text/plain": [
       "0        v Sri Lanka\n",
       "1        v Sri Lanka\n",
       "2        v Sri Lanka\n",
       "3        v Sri Lanka\n",
       "4        v Sri Lanka\n",
       "           ...      \n",
       "127    v New Zealand\n",
       "128    v New Zealand\n",
       "129        v England\n",
       "130        v England\n",
       "131        v England\n",
       "Name: Opposition, Length: 132, dtype: object"
      ]
     },
     "execution_count": 391,
     "metadata": {},
     "output_type": "execute_result"
    }
   ],
   "source": [
    "#apply\n",
    "x=s['Opposition']\n",
    "x"
   ]
  },
  {
   "cell_type": "code",
   "execution_count": 403,
   "id": "36980d97",
   "metadata": {},
   "outputs": [
    {
     "data": {
      "text/plain": [
       "0        LANKA\n",
       "1        LANKA\n",
       "2        LANKA\n",
       "3        LANKA\n",
       "4        LANKA\n",
       "        ...   \n",
       "127    ZEALAND\n",
       "128    ZEALAND\n",
       "129    ENGLAND\n",
       "130    ENGLAND\n",
       "131    ENGLAND\n",
       "Name: Opposition, Length: 132, dtype: object"
      ]
     },
     "execution_count": 403,
     "metadata": {},
     "output_type": "execute_result"
    }
   ],
   "source": [
    "x.apply(lambda x:x.split()[len(x.split())-1].upper())"
   ]
  },
  {
   "cell_type": "code",
   "execution_count": 404,
   "id": "cca94a7f",
   "metadata": {},
   "outputs": [
    {
     "data": {
      "text/plain": [
       "0        v Sri Lanka\n",
       "1        v Sri Lanka\n",
       "2        v Sri Lanka\n",
       "3        v Sri Lanka\n",
       "4        v Sri Lanka\n",
       "           ...      \n",
       "127    v New Zealand\n",
       "128    v New Zealand\n",
       "129        v England\n",
       "130        v England\n",
       "131        v England\n",
       "Name: Opposition, Length: 132, dtype: object"
      ]
     },
     "execution_count": 404,
     "metadata": {},
     "output_type": "execute_result"
    }
   ],
   "source": []
  },
  {
   "cell_type": "code",
   "execution_count": 406,
   "id": "c442a7e7",
   "metadata": {},
   "outputs": [
    {
     "data": {
      "text/plain": [
       "0       bad score\n",
       "1       bad score\n",
       "2       bad score\n",
       "3       bad score\n",
       "4       bad score\n",
       "          ...    \n",
       "127     bad score\n",
       "128     bad score\n",
       "129    Good Score\n",
       "130     bad score\n",
       "131     bad score\n",
       "Name: Runs, Length: 132, dtype: object"
      ]
     },
     "execution_count": 406,
     "metadata": {},
     "output_type": "execute_result"
    }
   ],
   "source": [
    "s[\"Runs\"].apply(lambda x:\"Good Score\" if x>=100 else 'bad score')"
   ]
  },
  {
   "cell_type": "code",
   "execution_count": 410,
   "id": "8049338c",
   "metadata": {},
   "outputs": [],
   "source": [
    "#copy()\n",
    "x = s['Runs']\n",
    "y = x.head()"
   ]
  },
  {
   "cell_type": "code",
   "execution_count": 413,
   "id": "58e549e2",
   "metadata": {},
   "outputs": [],
   "source": [
    "#this will cahnge in x also because a nd y both point same location\n",
    "y[0]=100"
   ]
  },
  {
   "cell_type": "code",
   "execution_count": 414,
   "id": "1577cc97",
   "metadata": {},
   "outputs": [
    {
     "data": {
      "text/plain": [
       "0      100\n",
       "1       37\n",
       "2       25\n",
       "3       54\n",
       "4       31\n",
       "      ... \n",
       "127     45\n",
       "128     65\n",
       "129    122\n",
       "130      8\n",
       "131     55\n",
       "Name: Runs, Length: 132, dtype: int64"
      ]
     },
     "execution_count": 414,
     "metadata": {},
     "output_type": "execute_result"
    }
   ],
   "source": [
    "x"
   ]
  },
  {
   "cell_type": "code",
   "execution_count": 415,
   "id": "63ff9858",
   "metadata": {},
   "outputs": [],
   "source": [
    "new=x.head().copy()"
   ]
  },
  {
   "cell_type": "code",
   "execution_count": 416,
   "id": "ad9df2a4",
   "metadata": {},
   "outputs": [],
   "source": [
    "new[0]=1"
   ]
  },
  {
   "cell_type": "code",
   "execution_count": 418,
   "id": "df8076f0",
   "metadata": {},
   "outputs": [
    {
     "data": {
      "text/plain": [
       "0      100\n",
       "1       37\n",
       "2       25\n",
       "3       54\n",
       "4       31\n",
       "      ... \n",
       "127     45\n",
       "128     65\n",
       "129    122\n",
       "130      8\n",
       "131     55\n",
       "Name: Runs, Length: 132, dtype: int64"
      ]
     },
     "execution_count": 418,
     "metadata": {},
     "output_type": "execute_result"
    }
   ],
   "source": [
    "#copy() solve the problem\n",
    "x"
   ]
  },
  {
   "cell_type": "code",
   "execution_count": null,
   "id": "8a610b76",
   "metadata": {},
   "outputs": [],
   "source": []
  }
 ],
 "metadata": {
  "kernelspec": {
   "display_name": "Python 3 (ipykernel)",
   "language": "python",
   "name": "python3"
  },
  "language_info": {
   "codemirror_mode": {
    "name": "ipython",
    "version": 3
   },
   "file_extension": ".py",
   "mimetype": "text/x-python",
   "name": "python",
   "nbconvert_exporter": "python",
   "pygments_lexer": "ipython3",
   "version": "3.9.13"
  }
 },
 "nbformat": 4,
 "nbformat_minor": 5
}
